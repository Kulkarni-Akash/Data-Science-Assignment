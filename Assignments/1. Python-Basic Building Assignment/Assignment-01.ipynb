{
 "cells": [
  {
   "cell_type": "markdown",
   "metadata": {},
   "source": [
    "Q1. Create one variable containing following type of data:\n",
    "(i) string\n",
    "(ii) list\n",
    "(iii) float\n",
    "(iv) tuple"
   ]
  },
  {
   "cell_type": "code",
   "execution_count": 1,
   "metadata": {},
   "outputs": [],
   "source": [
    "#solution\n",
    "string = \"Machine Learning\"\n",
    "list = [1,2,3,4,5,6]\n",
    "float = 45.5\n",
    "tuple = [(1,2),(3,4),(5,6)]"
   ]
  },
  {
   "cell_type": "code",
   "execution_count": 3,
   "metadata": {},
   "outputs": [
    {
     "name": "stdout",
     "output_type": "stream",
     "text": [
      "string:  Machine Learning\n",
      "list:  [1, 2, 3, 4, 5, 6]\n",
      "float:  45.5\n",
      "tuple:  [(1, 2), (3, 4), (5, 6)]\n"
     ]
    }
   ],
   "source": [
    "print(\"string: \",string)\n",
    "print(\"list: \",list)\n",
    "print(\"float: \",float)\n",
    "print(\"tuple: \",tuple)"
   ]
  },
  {
   "cell_type": "markdown",
   "metadata": {},
   "source": [
    "Q2. Given are some following variables containing data:\n",
    "(i) var1 = ‘ ‘\n",
    "(ii) var2 = ‘[ DS , ML , Python]’\n",
    "(iii) var3 = [ ‘DS’ , ’ML’ , ‘Python’ ]\n",
    "(iv) var4 = 1.\n",
    "What will be the data type of the above given variable."
   ]
  },
  {
   "cell_type": "markdown",
   "metadata": {},
   "source": [
    "solution\n",
    "i. string\n",
    "ii. string\n",
    "iii. list\n",
    "iv. int"
   ]
  },
  {
   "cell_type": "markdown",
   "metadata": {},
   "source": [
    "Q3. Explain the use of the following operators using an example:\n",
    "(i) /\n",
    "(ii) %\n",
    "(iii) //\n",
    "(iv) **"
   ]
  },
  {
   "cell_type": "markdown",
   "metadata": {},
   "source": [
    "solution \n",
    "\n",
    "i. The division operator '/' is used to divide one number by another.\n",
    "    Example: 10 / 2 will result in 5, because 10 divided by 2 equals 5.\n",
    "\n",
    "ii. The modulus operator '%' returns the remainder when one number is divided by another.\n",
    "    Example: 10 % 3 will result in 1, because when 10 is divided by 3, the remainder is 1.\n",
    "\n",
    "iii. The floor division operator '//' performs division and rounds down the result to the nearest integer.\n",
    "    Example: 10 // 3 will result in 3, because 10 divided by 3 is approximately 3.333, but // rounds it down to the nearest integer.\n",
    "\n",
    "iv. The exponentiation operator ** raises a number to a power.\n",
    "    Example: 2 ** 3 will result in 8, because 2 to the power of 3 is 8 (2 * 2 * 2)."
   ]
  },
  {
   "cell_type": "code",
   "execution_count": 3,
   "metadata": {},
   "outputs": [],
   "source": [
    "#Example by code\n",
    "\n",
    "# 1. Division Operator\n",
    "div = 10/2\n",
    "\n",
    "# 2. Modulus Operator\n",
    "mod = 10%3\n",
    "\n",
    "# 3. Floor Division Operator\n",
    "flr = 10//3\n",
    "\n",
    "# 4. Exponential Operator\n",
    "exp = 2**3"
   ]
  },
  {
   "cell_type": "code",
   "execution_count": 4,
   "metadata": {},
   "outputs": [
    {
     "name": "stdout",
     "output_type": "stream",
     "text": [
      "5.0\n",
      "1\n",
      "3\n",
      "8\n"
     ]
    }
   ],
   "source": [
    "print(div)\n",
    "print(mod)\n",
    "print(flr)\n",
    "print(exp)"
   ]
  },
  {
   "cell_type": "markdown",
   "metadata": {},
   "source": [
    "Q4. Create a list of length 10 of your choice containing multiple types of data. Using for loop print the\n",
    "element and its data type."
   ]
  },
  {
   "cell_type": "code",
   "execution_count": 5,
   "metadata": {},
   "outputs": [
    {
     "name": "stdout",
     "output_type": "stream",
     "text": [
      "Element: 42, Data Type: <class 'int'>\n",
      "Element: Hello, World!, Data Type: <class 'str'>\n",
      "Element: 3.14, Data Type: <class 'float'>\n",
      "Element: True, Data Type: <class 'bool'>\n",
      "Element: [1, 2, 3], Data Type: <class 'list'>\n",
      "Element: {'name': 'John', 'age': 30}, Data Type: <class 'dict'>\n",
      "Element: (4, 5), Data Type: <class 'tuple'>\n",
      "Element: None, Data Type: <class 'NoneType'>\n",
      "Element: 5.5, Data Type: <class 'float'>\n",
      "Element: False, Data Type: <class 'bool'>\n"
     ]
    }
   ],
   "source": [
    "# Solution\n",
    "\n",
    "my_list = [42, \"Hello, World!\", 3.14, True, [1, 2, 3], {'name': 'John', 'age': 30}, (4, 5), None, 5.5, False]\n",
    "\n",
    "for item in my_list:\n",
    "    print(f\"Element: {item}, Data Type: {type(item)}\")"
   ]
  },
  {
   "cell_type": "markdown",
   "metadata": {},
   "source": [
    "Q5. Using a while loop, verify if the number A is purely divisible by number B and if so then how many\n",
    "times it can be divisible."
   ]
  },
  {
   "cell_type": "code",
   "execution_count": 11,
   "metadata": {},
   "outputs": [
    {
     "name": "stdout",
     "output_type": "stream",
     "text": [
      "1 is divisible by 2, 3 times.\n"
     ]
    }
   ],
   "source": [
    "# Solution\n",
    "\n",
    "A = int(input(\"Enter the number A: \"))\n",
    "B = int(input(\"Enter the number B: \"))\n",
    "\n",
    "count = 0\n",
    "\n",
    "while A % B == 0:\n",
    "    A = A // B\n",
    "    count += 1\n",
    "\n",
    "if count > 0:\n",
    "    print(f\"{A} is divisible by {B}, {count} times.\")\n",
    "else:\n",
    "    print(f\"{A} is not divisible by {B}.\")"
   ]
  },
  {
   "cell_type": "markdown",
   "metadata": {},
   "source": [
    "Q6. Create a list containing 25 int type data. Using for loop and if-else condition print if the element is\n",
    "divisible by 3 or not."
   ]
  },
  {
   "cell_type": "code",
   "execution_count": 14,
   "metadata": {},
   "outputs": [
    {
     "name": "stdout",
     "output_type": "stream",
     "text": [
      "5 is not divisible by 3.\n",
      "12 is divisible by 3.\n",
      "7 is not divisible by 3.\n",
      "18 is divisible by 3.\n",
      "21 is divisible by 3.\n",
      "30 is divisible by 3.\n",
      "8 is not divisible by 3.\n",
      "9 is divisible by 3.\n",
      "17 is not divisible by 3.\n",
      "33 is divisible by 3.\n",
      "6 is divisible by 3.\n",
      "27 is divisible by 3.\n",
      "11 is not divisible by 3.\n",
      "45 is divisible by 3.\n",
      "2 is not divisible by 3.\n",
      "14 is not divisible by 3.\n",
      "25 is not divisible by 3.\n",
      "36 is divisible by 3.\n",
      "10 is not divisible by 3.\n",
      "4 is not divisible by 3.\n",
      "22 is not divisible by 3.\n",
      "39 is divisible by 3.\n",
      "19 is not divisible by 3.\n",
      "15 is divisible by 3.\n",
      "31 is not divisible by 3.\n"
     ]
    }
   ],
   "source": [
    "# Solution\n",
    "\n",
    "lst = [5, 12, 7, 18, 21, 30, 8, 9, 17, 33, 6, 27, 11, 45, 2, 14, 25, 36, 10, 4, 22, 39, 19, 15, 31]\n",
    "\n",
    "for element in lst:\n",
    "    if element % 3 == 0:\n",
    "        print(f\"{element} is divisible by 3.\")\n",
    "    else:\n",
    "        print(f\"{element} is not divisible by 3.\")"
   ]
  },
  {
   "cell_type": "markdown",
   "metadata": {},
   "source": [
    "Q7. What do you understand about mutable and immutable data types? Give examples for both showing\n",
    "this property."
   ]
  },
  {
   "cell_type": "markdown",
   "metadata": {},
   "source": [
    "Solution\n",
    "\n",
    "Mutable Data Types: Mutable data types are those where the value or content of the object can be modified after it is created.\n",
    "Immutable Data Types: Immutable data types are those where the value cannot be changed after the object is created."
   ]
  },
  {
   "cell_type": "code",
   "execution_count": 15,
   "metadata": {},
   "outputs": [
    {
     "name": "stdout",
     "output_type": "stream",
     "text": [
      "[100, 2, 3]\n",
      "Hello World\n"
     ]
    }
   ],
   "source": [
    "# Examples\n",
    "\n",
    "# Muttable\n",
    "my_list = [1, 2, 3]\n",
    "my_list[0] = 100\n",
    "print(my_list)\n",
    "\n",
    "# Immutable\n",
    "my_string = \"Hello\"\n",
    "my_string = my_string + \" World\"\n",
    "print(my_string)"
   ]
  }
 ],
 "metadata": {
  "kernelspec": {
   "display_name": "Python 3",
   "language": "python",
   "name": "python3"
  },
  "language_info": {
   "codemirror_mode": {
    "name": "ipython",
    "version": 3
   },
   "file_extension": ".py",
   "mimetype": "text/x-python",
   "name": "python",
   "nbconvert_exporter": "python",
   "pygments_lexer": "ipython3",
   "version": "3.11.4"
  }
 },
 "nbformat": 4,
 "nbformat_minor": 2
}
