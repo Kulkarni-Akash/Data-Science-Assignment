{
 "cells": [
  {
   "cell_type": "markdown",
   "metadata": {},
   "source": [
    "Q1. How do you comment code in Python? What are the different types of comments?"
   ]
  },
  {
   "cell_type": "markdown",
   "metadata": {},
   "source": [
    "Solution\n",
    "\n",
    "'#' is the symbol to comment the code\n",
    "\n",
    "Single-line comments are used to add explanations or notes to a single line of code.\n",
    "\n",
    "Python does not have a built-in syntax for multi-line comments like some other programming languages. However, you can create multi-line comments by using a string enclosed in triple quotes (single or double) as a docstring."
   ]
  },
  {
   "cell_type": "markdown",
   "metadata": {},
   "source": [
    "Q2. What are variables in Python? How do you declare and assign values to variables?"
   ]
  },
  {
   "cell_type": "markdown",
   "metadata": {},
   "source": [
    "Solution\n",
    "\n",
    "In Python, a variable is a symbolic name or identifier that represents a value stored in computer memory.\n",
    "\n",
    "Variable Declaration:\n",
    "You do not need to explicitly declare the data type of a variable in Python. Variables are dynamically typed, which means their type is determined based on the value they hold. \n",
    "\n",
    "Variable Assignment:\n",
    "To assign a value to a variable, you use the assignment operator (=)."
   ]
  },
  {
   "cell_type": "markdown",
   "metadata": {},
   "source": [
    "Q3. How do you convert one data type to another in Python?"
   ]
  },
  {
   "cell_type": "markdown",
   "metadata": {},
   "source": [
    "Solution\n",
    "\n",
    "Explicit Type Casting:\n",
    "You can explicitly convert one data type to another by using the appropriate type casting functions. Some commonly used type casting functions include:\n",
    "int(): Convert to an integer.\n",
    "float(): Convert to a floating-point number.\n",
    "str(): Convert to a string.\n",
    "list(): Convert to a list.\n",
    "tuple(): Convert to a tuple.\n",
    "dict(): Convert to a dictionary.\n",
    "bool(): Convert to a Boolean.\n",
    "\n",
    "Implicit Type Conversion:\n",
    "Python also performs implicit type conversion, or type coercion, in some situations, such as when you perform operations between different data types."
   ]
  },
  {
   "cell_type": "markdown",
   "metadata": {},
   "source": [
    "Q4. How do you write and execute a Python script from the command line?"
   ]
  },
  {
   "cell_type": "markdown",
   "metadata": {},
   "source": [
    "Use a text editor or integrated development environment (IDE) to write your Python script. Save it with a .py extension.\n",
    "To execute your Python script from the command line, you can use the python command followed by the name of the script file."
   ]
  },
  {
   "cell_type": "markdown",
   "metadata": {},
   "source": [
    "Q5. Given a list my_list = [1, 2, 3, 4, 5], write the code to slice the list and obtain the sub-list [2, 3]."
   ]
  },
  {
   "cell_type": "code",
   "execution_count": 1,
   "metadata": {},
   "outputs": [
    {
     "name": "stdout",
     "output_type": "stream",
     "text": [
      "[2, 3]\n"
     ]
    }
   ],
   "source": [
    "#  Solution\n",
    "\n",
    "main_list = [1, 2, 3, 4, 5]\n",
    "\n",
    "sub_list = main_list[1:3]\n",
    "\n",
    "print(sub_list)"
   ]
  },
  {
   "cell_type": "markdown",
   "metadata": {},
   "source": [
    "Q6. What is a complex number in mathematics, and how is it represented in Python?"
   ]
  },
  {
   "cell_type": "markdown",
   "metadata": {},
   "source": [
    "In mathematics, a complex number is a number that can be expressed in the form a + bi, where a and b are real numbers, and 'i'represents the imaginary unit. The imaginary unit 'i' is defined as the square root of -1, and it has the property that i^2 = -1.\n",
    "\n",
    "In Python, complex numbers are represented using the 'j' symbol instead of 'i'. The imaginary unit is represented by 'j' in Python."
   ]
  },
  {
   "cell_type": "markdown",
   "metadata": {},
   "source": [
    "Q7. What is the correct way to declare a variable named age and assign the value 25 to it?"
   ]
  },
  {
   "cell_type": "code",
   "execution_count": 2,
   "metadata": {},
   "outputs": [],
   "source": [
    "age = 25"
   ]
  },
  {
   "cell_type": "markdown",
   "metadata": {},
   "source": [
    "Q8. Declare a variable named price and assign the value 9.99 to it. What data type does this variable\n",
    "belong to?"
   ]
  },
  {
   "cell_type": "code",
   "execution_count": 3,
   "metadata": {},
   "outputs": [
    {
     "name": "stdout",
     "output_type": "stream",
     "text": [
      "<class 'float'>\n"
     ]
    }
   ],
   "source": [
    "price = 9.99\n",
    "print(type(price))"
   ]
  },
  {
   "cell_type": "markdown",
   "metadata": {},
   "source": [
    "Q9. Create a variable named name and assign your full name to it as a string. How would you print the\n",
    "value of this variable?"
   ]
  },
  {
   "cell_type": "code",
   "execution_count": 4,
   "metadata": {},
   "outputs": [
    {
     "name": "stdout",
     "output_type": "stream",
     "text": [
      "Akash P Kulkarni\n"
     ]
    }
   ],
   "source": [
    "name = \"Akash P Kulkarni\"\n",
    "print(name)"
   ]
  },
  {
   "cell_type": "markdown",
   "metadata": {},
   "source": [
    "Q10. Given the string \"Hello, World!\", extract the substring \"World\"."
   ]
  },
  {
   "cell_type": "code",
   "execution_count": 5,
   "metadata": {},
   "outputs": [
    {
     "name": "stdout",
     "output_type": "stream",
     "text": [
      " World!\n"
     ]
    }
   ],
   "source": [
    "str = \"Hello, World!\"\n",
    "\n",
    "splted = str.split(',')\n",
    "\n",
    "print(splted[1])"
   ]
  },
  {
   "cell_type": "markdown",
   "metadata": {},
   "source": [
    "Q11. Create a variable named \"is_student\" and assign it a boolean value indicating whether you are\n",
    "currently a student or not."
   ]
  },
  {
   "cell_type": "code",
   "execution_count": 6,
   "metadata": {},
   "outputs": [],
   "source": [
    "is_student = False"
   ]
  }
 ],
 "metadata": {
  "kernelspec": {
   "display_name": "Python 3",
   "language": "python",
   "name": "python3"
  },
  "language_info": {
   "codemirror_mode": {
    "name": "ipython",
    "version": 3
   },
   "file_extension": ".py",
   "mimetype": "text/x-python",
   "name": "python",
   "nbconvert_exporter": "python",
   "pygments_lexer": "ipython3",
   "version": "3.11.4"
  }
 },
 "nbformat": 4,
 "nbformat_minor": 2
}
