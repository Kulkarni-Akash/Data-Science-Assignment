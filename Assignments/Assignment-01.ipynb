{
 "cells": [
  {
   "cell_type": "markdown",
   "metadata": {},
   "source": [
    "Q1. Create one variable containing following type of data:\n",
    "(i) string\n",
    "(ii) list\n",
    "(iii) float\n",
    "(iv) tuple"
   ]
  },
  {
   "cell_type": "code",
   "execution_count": 1,
   "metadata": {},
   "outputs": [],
   "source": [
    "string = \"Machine Learning\"\n",
    "list = [1,2,3,4,5,6]\n",
    "float = 45.5\n",
    "tuple = [(1,2),(3,4),(5,6)]"
   ]
  },
  {
   "cell_type": "code",
   "execution_count": 3,
   "metadata": {},
   "outputs": [
    {
     "name": "stdout",
     "output_type": "stream",
     "text": [
      "string:  Machine Learning\n",
      "list:  [1, 2, 3, 4, 5, 6]\n",
      "float:  45.5\n",
      "tuple:  [(1, 2), (3, 4), (5, 6)]\n"
     ]
    }
   ],
   "source": [
    "print(\"string: \",string)\n",
    "print(\"list: \",list)\n",
    "print(\"float: \",float)\n",
    "print(\"tuple: \",tuple)"
   ]
  }
 ],
 "metadata": {
  "kernelspec": {
   "display_name": "Python 3",
   "language": "python",
   "name": "python3"
  },
  "language_info": {
   "codemirror_mode": {
    "name": "ipython",
    "version": 3
   },
   "file_extension": ".py",
   "mimetype": "text/x-python",
   "name": "python",
   "nbconvert_exporter": "python",
   "pygments_lexer": "ipython3",
   "version": "3.11.4"
  }
 },
 "nbformat": 4,
 "nbformat_minor": 2
}
