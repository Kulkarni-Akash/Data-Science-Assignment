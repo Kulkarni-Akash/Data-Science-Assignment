{
 "cells": [
  {
   "cell_type": "markdown",
   "metadata": {},
   "source": [
    "Q1. Which keyword is used to create a function? Create a function to return a list of odd numbers in the\n",
    "range of 1 to 25."
   ]
  },
  {
   "cell_type": "code",
   "execution_count": null,
   "metadata": {},
   "outputs": [],
   "source": [
    "# Solution\n",
    "\n",
    "# def keyword is used to create a function.\n",
    "\n",
    "def listOfOddNumbers():\n",
    "    lst = []\n",
    "    for i in range(1, 25):\n",
    "        if i%2 != 0:\n",
    "            lst.append(i)\n",
    "    \n",
    "    return lst\n",
    "\n",
    "listOfOddNumbers()"
   ]
  }
 ],
 "metadata": {
  "kernelspec": {
   "display_name": "Python 3",
   "language": "python",
   "name": "python3"
  },
  "language_info": {
   "name": "python",
   "version": "3.11.4"
  }
 },
 "nbformat": 4,
 "nbformat_minor": 2
}
